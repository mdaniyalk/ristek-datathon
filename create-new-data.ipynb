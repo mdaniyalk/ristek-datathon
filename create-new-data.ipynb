{
 "cells": [
  {
   "cell_type": "code",
   "execution_count": null,
   "metadata": {},
   "outputs": [],
   "source": [
    "import pandas as pd \n",
    "import numpy as np \n",
    "from tqdm import tqdm"
   ]
  },
  {
   "cell_type": "markdown",
   "metadata": {},
   "source": [
    "# Load data"
   ]
  },
  {
   "cell_type": "code",
   "execution_count": null,
   "metadata": {},
   "outputs": [],
   "source": [
    "df_train = pd.read_csv('data/train.csv')\n",
    "df_train.head()"
   ]
  },
  {
   "cell_type": "code",
   "execution_count": null,
   "metadata": {},
   "outputs": [],
   "source": [
    "df_test = pd.read_csv('data/test.csv')\n",
    "df_test.head()"
   ]
  },
  {
   "cell_type": "markdown",
   "metadata": {},
   "source": [
    "# OSM API"
   ]
  },
  {
   "cell_type": "code",
   "execution_count": null,
   "metadata": {},
   "outputs": [],
   "source": [
    "from OSMPythonTools.api import Api"
   ]
  },
  {
   "cell_type": "code",
   "execution_count": null,
   "metadata": {},
   "outputs": [],
   "source": [
    "unique_jalan_train = df_train['id_jalan'].unique()\n",
    "unique_jalan_test = df_test['id_jalan'].unique()\n",
    "unique_jalan = np.concatenate((unique_jalan_train, unique_jalan_test), axis=0)\n",
    "unique_jalan = np.unique(unique_jalan, axis=0)"
   ]
  },
  {
   "cell_type": "code",
   "execution_count": null,
   "metadata": {},
   "outputs": [],
   "source": [
    "unique_mulai_train = df_train['id_titik_mulai'].unique()\n",
    "unique_mulai_test = df_test['id_titik_mulai'].unique()\n",
    "unique_akhir_train = df_train['id_titik_akhir'].unique()\n",
    "unique_akhir_test = df_test['id_titik_akhir'].unique()\n",
    "unique_mulai = np.concatenate((unique_mulai_train, unique_mulai_test), axis=0)\n",
    "unique_mulai = np.unique(unique_mulai, axis=0)\n",
    "unique_akhir = np.concatenate((unique_akhir_train, unique_akhir_test), axis=0)\n",
    "unique_akhir = np.unique(unique_akhir, axis=0)"
   ]
  },
  {
   "cell_type": "code",
   "execution_count": null,
   "metadata": {},
   "outputs": [],
   "source": [
    "# Testing result\n",
    "api = Api()\n",
    "way = api.query('way/66924592')\n",
    "way.tags()"
   ]
  },
  {
   "cell_type": "code",
   "execution_count": null,
   "metadata": {},
   "outputs": [],
   "source": [
    "result_jalan = {'id_jalan': unique_jalan,\n",
    "                'api_result': []}\n",
    "api = Api()\n",
    "# new_col_jalan = ['lanes', 'lanes:forward', 'lit', 'maxspeed']\n",
    "new_col_jalan = ['cycleway', 'highway','lanes', 'lanes:forward', 'lit', 'maxspeed', 'name', 'operator', 'ref', 'sidewalk', 'surface', 'turn:lanes:forward']\n",
    "for id_jalan in unique_jalan:\n",
    "    way = api.query(f'way/{id_jalan}')\n",
    "    api_result = {} \n",
    "    for col in new_col_jalan:\n",
    "        api_result[col] = way.tag(col)\n",
    "    result_jalan['api_result'].append(api_result)\n"
   ]
  },
  {
   "cell_type": "code",
   "execution_count": null,
   "metadata": {},
   "outputs": [],
   "source": [
    "result_jalan['api_result']"
   ]
  },
  {
   "cell_type": "code",
   "execution_count": null,
   "metadata": {},
   "outputs": [],
   "source": [
    "# Testing result\n",
    "node = api.query('node/21390008') # idx=0, id_titik mulai\n",
    "print(node.lat())\n",
    "print(node.lon())"
   ]
  },
  {
   "cell_type": "code",
   "execution_count": null,
   "metadata": {},
   "outputs": [],
   "source": []
  },
  {
   "cell_type": "code",
   "execution_count": null,
   "metadata": {},
   "outputs": [],
   "source": [
    "import xml.etree.ElementTree as ET\n",
    "import requests\n",
    "\n",
    "def manual_extract(node):\n",
    "    url = f'https://www.openstreetmap.org/api/0.6/node/{node}/history'\n",
    "    r = requests.get(url)\n",
    "    root = ET.fromstring(r.text)\n",
    "\n",
    "    # Find all nodes with the specified id\n",
    "    nodes = root.findall(f'.//node[@id=\"{node}\"]')\n",
    "\n",
    "    # Initialize variables to hold latitude and longitude\n",
    "    latest_lat = None\n",
    "    latest_lon = None\n",
    "\n",
    "    # Iterate through the nodes in reverse order (latest version first)\n",
    "    for node in reversed(nodes):\n",
    "        lat = node.get('lat')\n",
    "        lon = node.get('lon')\n",
    "        \n",
    "        if lat and lon:\n",
    "            latest_lat = lat\n",
    "            latest_lon = lon\n",
    "            break  # Stop when the first valid lat and lon are found\n",
    "\n",
    "    # If no valid lat and lon are found in the latest version, use the previous version's data\n",
    "    if latest_lat is None or latest_lon is None:\n",
    "        for node in reversed(nodes):\n",
    "            lat = node.get('lat')\n",
    "            lon = node.get('lon')\n",
    "            if lat and lon:\n",
    "                latest_lat = lat\n",
    "                latest_lon = lon\n",
    "                break  # Stop when the first valid lat and lon are found\n",
    "    return latest_lat, latest_lon\n",
    "\n",
    "    "
   ]
  },
  {
   "cell_type": "code",
   "execution_count": null,
   "metadata": {},
   "outputs": [],
   "source": [
    "result_mulai = {'id_titik_mulai': unique_mulai,\n",
    "                'api_result': []}\n",
    "api = Api()\n",
    "new_col_jalan = ['lat', 'lon']\n",
    "for id_titik in unique_mulai:\n",
    "    try:\n",
    "        node = api.query(f'node/{id_titik}')\n",
    "    except:\n",
    "        lat, lon = manual_extract(id_titik)\n",
    "    \n",
    "    api_result = {'lat': node.lat(),\n",
    "                  'lon': node.lon()} \n",
    "    result_mulai['api_result'].append(api_result)\n"
   ]
  },
  {
   "cell_type": "code",
   "execution_count": null,
   "metadata": {},
   "outputs": [],
   "source": [
    "result_mulai['api_result']"
   ]
  },
  {
   "cell_type": "code",
   "execution_count": null,
   "metadata": {},
   "outputs": [],
   "source": [
    "result_akhir = {'id_titik_akhir': unique_akhir,\n",
    "                'api_result': []}\n",
    "api = Api()\n",
    "new_col_jalan = ['lat', 'lon']\n",
    "for id_titik in unique_akhir:\n",
    "    try:\n",
    "        node = api.query(f'node/{id_titik}')\n",
    "    except:\n",
    "        lat, lon = manual_extract(id_titik)\n",
    "    \n",
    "    api_result = {'lat': node.lat(),\n",
    "                  'lon': node.lon()} \n",
    "    result_akhir['api_result'].append(api_result)\n"
   ]
  },
  {
   "cell_type": "code",
   "execution_count": null,
   "metadata": {},
   "outputs": [],
   "source": [
    "result_akhir['api_result'][0]['lat']"
   ]
  },
  {
   "cell_type": "markdown",
   "metadata": {},
   "source": [
    "# MapQuest API"
   ]
  },
  {
   "cell_type": "code",
   "execution_count": null,
   "metadata": {},
   "outputs": [],
   "source": [
    "unique_mulai_akhir_train = np.unique(df_train[['id_titik_mulai', 'id_titik_akhir']].values, axis=0)\n",
    "unique_mulai_akhir_test = np.unique(df_test[['id_titik_mulai', 'id_titik_akhir']].values, axis=0)\n",
    "unique_mulai_akhir = np.concatenate((unique_mulai_akhir_train, unique_mulai_akhir_test), axis=0)\n",
    "unique_mulai_akhir = np.unique(unique_mulai_akhir, axis=0)\n"
   ]
  },
  {
   "cell_type": "code",
   "execution_count": null,
   "metadata": {},
   "outputs": [],
   "source": [
    "np.array([21390008, 1425033102]) in unique_mulai_akhir"
   ]
  },
  {
   "cell_type": "code",
   "execution_count": null,
   "metadata": {},
   "outputs": [],
   "source": [
    "import json\n",
    "\n",
    "def distance(start_lat, start_lon, end_lat, end_lon):\n",
    "    key = 'FVgErOkhYoJmjdsUrldVi9nkrCrGKuWm'\n",
    "    url = f'https://www.mapquestapi.com/directions/v2/route?key={key}&from={start_lat},{start_lon}&to={end_lat},{end_lon}'\n",
    "    r = requests.get(url)\n",
    "    data = r.json()\n",
    "    dist = data['route']['distance']\n",
    "    return dist"
   ]
  },
  {
   "cell_type": "code",
   "execution_count": null,
   "metadata": {},
   "outputs": [],
   "source": [
    "distance(51.4651822,-0.2552399,51.4652044,-0.2545952)"
   ]
  },
  {
   "cell_type": "code",
   "execution_count": null,
   "metadata": {},
   "outputs": [],
   "source": [
    "np.where(result_akhir['id_titik_akhir'] == id_titik[1])[0].sum()"
   ]
  },
  {
   "cell_type": "code",
   "execution_count": null,
   "metadata": {},
   "outputs": [],
   "source": [
    "result_distance = {'id_titik_mulai_akhir': unique_mulai_akhir,\n",
    "                'api_result': []}\n",
    "api = Api()\n",
    "new_col_jalan = ['lat', 'lon']\n",
    "for id_titik in unique_mulai_akhir:\n",
    "    idx_mulai = np.where(result_mulai['id_titik_mulai'] == id_titik[0])[0].sum()\n",
    "    idx_akhir = np.where(result_akhir['id_titik_akhir'] == id_titik[1])[0].sum()\n",
    "    dist = distance(result_mulai['api_result'][idx_mulai]['lat'], result_mulai['api_result'][idx_mulai]['lon'], result_akhir['api_result'][idx_akhir]['lat'], result_akhir['api_result'][idx_akhir]['lon'])\n",
    "    api_result = {'distance': dist} \n",
    "    result_distance['api_result'].append(api_result)\n"
   ]
  },
  {
   "cell_type": "markdown",
   "metadata": {},
   "source": [
    "Export to CSV"
   ]
  },
  {
   "cell_type": "code",
   "execution_count": null,
   "metadata": {},
   "outputs": [],
   "source": [
    "result_distance['api_result']"
   ]
  },
  {
   "cell_type": "code",
   "execution_count": null,
   "metadata": {},
   "outputs": [],
   "source": [
    "id_distance = np.array([21390008, 1425033102])\n",
    "# np.where(result_distance['id_titik_mulai_akhir'] == id_distance)\n",
    "[index for index, value in enumerate(unique_mulai_akhir) if value in id_distance]\n"
   ]
  },
  {
   "cell_type": "code",
   "execution_count": null,
   "metadata": {},
   "outputs": [],
   "source": [
    "array1 = np.array([21390008, 1425033102])\n",
    "array2 = np.array([21390008, 1425033102])\n",
    "np.array_equal(array1, array2)"
   ]
  },
  {
   "cell_type": "code",
   "execution_count": null,
   "metadata": {},
   "outputs": [],
   "source": [
    "if (np.array([21390008, 1425033102]) - np.array([21390008, 1425033102]) == np.array([0, 0])):\n",
    "    print('True')"
   ]
  },
  {
   "cell_type": "code",
   "execution_count": null,
   "metadata": {},
   "outputs": [],
   "source": [
    "def find_idx_dist(id_titik, unique_val):\n",
    "    for idx, val in enumerate(unique_val):\n",
    "        if np.array_equal(val, id_titik):\n",
    "            return idx\n",
    "            "
   ]
  },
  {
   "cell_type": "code",
   "execution_count": null,
   "metadata": {},
   "outputs": [],
   "source": [
    "def add_data(df, filename):\n",
    "    # new_col = ['lanes', 'lanes:forward', 'lit', 'maxspeed', 'mulai_lat', 'mulai_lon', 'akhir_lat', 'akhir_lon', 'distance']\n",
    "    new_col = ['cycleway', 'highway','lanes', 'lanes:forward', 'lit', 'maxspeed', 'name', 'operator', 'ref', 'sidewalk', 'surface', 'turn:lanes:forward', 'mulai_lat', 'mulai_lon', 'akhir_lat', 'akhir_lon', 'distance']\n",
    "    additional_data = {'cycleway':[], 'highway':[],'lanes':[], 'lanes:forward':[], 'lit':[], 'maxspeed':[], 'name':[], 'operator':[], 'ref':[], 'sidewalk':[], 'surface':[], 'turn:lanes:forward':[], 'mulai_lat':[], 'mulai_lon':[], 'akhir_lat':[], 'akhir_lon':[], 'distance':[]}\n",
    "    for index, row in tqdm(df.iterrows()):\n",
    "        id_jalan = row['id_jalan']\n",
    "        idx_jalan = np.where(result_jalan['id_jalan'] == id_jalan)[0].sum()\n",
    "\n",
    "        cycleway, highway, name, operator = (result_jalan['api_result'][idx_jalan]['cycleway'], result_jalan['api_result'][idx_jalan]['highway'], result_jalan['api_result'][idx_jalan]['name'], result_jalan['api_result'][idx_jalan]['operator'])\n",
    "        lanes, lanesforward, lit, maxspeed = (result_jalan['api_result'][idx_jalan]['lanes'], result_jalan['api_result'][idx_jalan]['lanes:forward'], result_jalan['api_result'][idx_jalan]['lit'], result_jalan['api_result'][idx_jalan]['maxspeed'])\n",
    "        ref, sidewalk, surface, turnlanesforward = (result_jalan['api_result'][idx_jalan]['ref'], result_jalan['api_result'][idx_jalan]['sidewalk'], result_jalan['api_result'][idx_jalan]['surface'], result_jalan['api_result'][idx_jalan]['turn:lanes:forward'])\n",
    "\n",
    "        id_titik_mulai = row['id_titik_mulai']\n",
    "        id_titik_akhir = row['id_titik_akhir']\n",
    "\n",
    "        idx_mulai = np.where(result_mulai['id_titik_mulai'] == id_titik_mulai)[0].sum()\n",
    "        idx_akhir = np.where(result_akhir['id_titik_akhir'] == id_titik_akhir)[0].sum()\n",
    "\n",
    "        mulai_lat, mulai_lon = (result_mulai['api_result'][idx_mulai]['lat'], result_mulai['api_result'][idx_mulai]['lon'])\n",
    "        akhir_lat, akhir_lon = (result_akhir['api_result'][idx_akhir]['lat'], result_akhir['api_result'][idx_akhir]['lon'])\n",
    "\n",
    "        id_distance = np.array([row['id_titik_mulai'], row['id_titik_akhir']])\n",
    "        idx_distance = find_idx_dist(id_distance, unique_mulai_akhir)\n",
    "        distance = result_distance['api_result'][idx_distance]['distance']\n",
    "\n",
    "        additional_data['cycleway'].append(cycleway)\n",
    "        additional_data['highway'].append(highway)\n",
    "        additional_data['name'].append(name)\n",
    "        additional_data['operator'].append(operator)\n",
    "        additional_data['lanes'].append(lanes)\n",
    "        additional_data['lanes:forward'].append(lanesforward)\n",
    "        additional_data['lit'].append(lit)\n",
    "        additional_data['maxspeed'].append(maxspeed)\n",
    "        additional_data['ref'].append(ref)\n",
    "        additional_data['sidewalk'].append(sidewalk)\n",
    "        additional_data['surface'].append(surface)\n",
    "        additional_data['turn:lanes:forward'].append(turnlanesforward)\n",
    "        \n",
    "        additional_data['mulai_lat'].append(mulai_lat)\n",
    "        additional_data['mulai_lon'].append(mulai_lon)\n",
    "        additional_data['akhir_lat'].append(akhir_lat)\n",
    "        additional_data['akhir_lon'].append(akhir_lon)\n",
    "        additional_data['distance'].append(distance)\n",
    "    for col in new_col:\n",
    "        df[col] = additional_data[col]\n",
    "    df.to_csv(filename, index=False)"
   ]
  },
  {
   "cell_type": "code",
   "execution_count": null,
   "metadata": {},
   "outputs": [],
   "source": [
    "add_data(df_train, 'new_train-2.csv')\n",
    "add_data(df_test, 'new_test-2.csv')"
   ]
  }
 ],
 "metadata": {
  "kernelspec": {
   "display_name": "base",
   "language": "python",
   "name": "python3"
  },
  "language_info": {
   "codemirror_mode": {
    "name": "ipython",
    "version": 3
   },
   "file_extension": ".py",
   "mimetype": "text/x-python",
   "name": "python",
   "nbconvert_exporter": "python",
   "pygments_lexer": "ipython3",
   "version": "3.10.9"
  },
  "orig_nbformat": 4
 },
 "nbformat": 4,
 "nbformat_minor": 2
}
