{
 "cells": [
  {
   "cell_type": "code",
   "execution_count": 1,
   "metadata": {},
   "outputs": [
    {
     "name": "stdout",
     "output_type": "stream",
     "text": [
      "Collecting OSMPythonTools\n",
      "  Downloading OSMPythonTools-0.3.5.tar.gz (28 kB)\n",
      "  Preparing metadata (setup.py) ... \u001b[?25ldone\n",
      "\u001b[?25hRequirement already satisfied: beautifulsoup4 in /Users/mdaniyalk/miniforge3/lib/python3.10/site-packages (from OSMPythonTools) (4.12.2)\n",
      "Collecting geojson\n",
      "  Downloading geojson-3.0.1-py3-none-any.whl (15 kB)\n",
      "Requirement already satisfied: lxml in /Users/mdaniyalk/miniforge3/lib/python3.10/site-packages (from OSMPythonTools) (4.9.2)\n",
      "Requirement already satisfied: matplotlib in /Users/mdaniyalk/miniforge3/lib/python3.10/site-packages (from OSMPythonTools) (3.7.1)\n",
      "Requirement already satisfied: numpy in /Users/mdaniyalk/miniforge3/lib/python3.10/site-packages (from OSMPythonTools) (1.23.5)\n",
      "Requirement already satisfied: pandas in /Users/mdaniyalk/miniforge3/lib/python3.10/site-packages (from OSMPythonTools) (1.5.3)\n",
      "Collecting ujson\n",
      "  Downloading ujson-5.8.0-cp310-cp310-macosx_11_0_arm64.whl (54 kB)\n",
      "\u001b[2K     \u001b[90m━━━━━━━━━━━━━━━━━━━━━━━━━━━━━━━━━━━━━━━━\u001b[0m \u001b[32m54.8/54.8 kB\u001b[0m \u001b[31m6.7 MB/s\u001b[0m eta \u001b[36m0:00:00\u001b[0m\n",
      "\u001b[?25hCollecting xarray\n",
      "  Downloading xarray-2023.7.0-py3-none-any.whl (1.0 MB)\n",
      "\u001b[2K     \u001b[90m━━━━━━━━━━━━━━━━━━━━━━━━━━━━━━━━━━━━━━━━\u001b[0m \u001b[32m1.0/1.0 MB\u001b[0m \u001b[31m952.7 kB/s\u001b[0m eta \u001b[36m0:00:00\u001b[0m00:01\u001b[0m00:01\u001b[0m\n",
      "\u001b[?25hRequirement already satisfied: soupsieve>1.2 in /Users/mdaniyalk/miniforge3/lib/python3.10/site-packages (from beautifulsoup4->OSMPythonTools) (2.4.1)\n",
      "Requirement already satisfied: pyparsing>=2.3.1 in /Users/mdaniyalk/miniforge3/lib/python3.10/site-packages (from matplotlib->OSMPythonTools) (3.0.9)\n",
      "Requirement already satisfied: fonttools>=4.22.0 in /Users/mdaniyalk/miniforge3/lib/python3.10/site-packages (from matplotlib->OSMPythonTools) (4.39.2)\n",
      "Requirement already satisfied: packaging>=20.0 in /Users/mdaniyalk/miniforge3/lib/python3.10/site-packages (from matplotlib->OSMPythonTools) (23.0)\n",
      "Requirement already satisfied: python-dateutil>=2.7 in /Users/mdaniyalk/miniforge3/lib/python3.10/site-packages (from matplotlib->OSMPythonTools) (2.8.2)\n",
      "Requirement already satisfied: cycler>=0.10 in /Users/mdaniyalk/miniforge3/lib/python3.10/site-packages (from matplotlib->OSMPythonTools) (0.11.0)\n",
      "Requirement already satisfied: kiwisolver>=1.0.1 in /Users/mdaniyalk/miniforge3/lib/python3.10/site-packages (from matplotlib->OSMPythonTools) (1.4.4)\n",
      "Requirement already satisfied: contourpy>=1.0.1 in /Users/mdaniyalk/miniforge3/lib/python3.10/site-packages (from matplotlib->OSMPythonTools) (1.0.7)\n",
      "Requirement already satisfied: pillow>=6.2.0 in /Users/mdaniyalk/miniforge3/lib/python3.10/site-packages (from matplotlib->OSMPythonTools) (9.4.0)\n",
      "Requirement already satisfied: pytz>=2020.1 in /Users/mdaniyalk/miniforge3/lib/python3.10/site-packages (from pandas->OSMPythonTools) (2022.7.1)\n",
      "Requirement already satisfied: six>=1.5 in /Users/mdaniyalk/miniforge3/lib/python3.10/site-packages (from python-dateutil>=2.7->matplotlib->OSMPythonTools) (1.16.0)\n",
      "Building wheels for collected packages: OSMPythonTools\n",
      "  Building wheel for OSMPythonTools (setup.py) ... \u001b[?25ldone\n",
      "\u001b[?25h  Created wheel for OSMPythonTools: filename=OSMPythonTools-0.3.5-py3-none-any.whl size=32716 sha256=aec87e9189a315909ea65afeb0f216ebc402772fbe1c0fdaf73a88c750340fde\n",
      "  Stored in directory: /Users/mdaniyalk/Library/Caches/pip/wheels/5d/78/02/024bd457b96712ca4e0b02b194ff1998883857e102715f5a88\n",
      "Successfully built OSMPythonTools\n",
      "Installing collected packages: ujson, geojson, xarray, OSMPythonTools\n",
      "Successfully installed OSMPythonTools-0.3.5 geojson-3.0.1 ujson-5.8.0 xarray-2023.7.0\n"
     ]
    }
   ],
   "source": [
    "!pip install OSMPythonTools\n"
   ]
  },
  {
   "cell_type": "code",
   "execution_count": 40,
   "metadata": {},
   "outputs": [],
   "source": [
    "from OSMPythonTools.api import Api\n",
    "api = Api()\n",
    "way = api.query('way/691007296') # idx=0, id_jalan\n"
   ]
  },
  {
   "cell_type": "code",
   "execution_count": 43,
   "metadata": {},
   "outputs": [
    {
     "data": {
      "text/plain": [
       "{'cycleway': 'lane',\n",
       " 'highway': 'trunk',\n",
       " 'lanes': '3',\n",
       " 'lanes:forward': '2',\n",
       " 'lit': 'yes',\n",
       " 'maxspeed': '30 mph',\n",
       " 'name': 'Upper Tooting Road',\n",
       " 'operator': 'Transport for London',\n",
       " 'ref': 'A24',\n",
       " 'sidewalk': 'separate',\n",
       " 'surface': 'asphalt',\n",
       " 'turn:lanes:forward': 'left;through|through;right'}"
      ]
     },
     "execution_count": 43,
     "metadata": {},
     "output_type": "execute_result"
    }
   ],
   "source": [
    "way.tags()"
   ]
  },
  {
   "cell_type": "code",
   "execution_count": 25,
   "metadata": {},
   "outputs": [
    {
     "name": "stdout",
     "output_type": "stream",
     "text": [
      "43412521\n",
      "8655676682\n",
      "7816582333\n",
      "7816582338\n",
      "43412859\n"
     ]
    }
   ],
   "source": [
    "for w in way.nodes():\n",
    "    print(w.id())\n"
   ]
  },
  {
   "cell_type": "code",
   "execution_count": 36,
   "metadata": {},
   "outputs": [
    {
     "name": "stdout",
     "output_type": "stream",
     "text": [
      "51.434928\n",
      "-0.1611764\n"
     ]
    }
   ],
   "source": [
    "node = api.query('node/21390008') # idx=0, id_titik mulai\n",
    "print(node.lat())\n",
    "print(node.lon())"
   ]
  },
  {
   "cell_type": "code",
   "execution_count": 37,
   "metadata": {},
   "outputs": [
    {
     "name": "stderr",
     "output_type": "stream",
     "text": [
      "[api] downloading data: node/1425033102\n"
     ]
    },
    {
     "name": "stdout",
     "output_type": "stream",
     "text": [
      "51.4349746\n",
      "-0.1610901\n"
     ]
    }
   ],
   "source": [
    "node = api.query('node/1425033102') # idx=0, id_titik akhir\n",
    "print(node.lat())\n",
    "print(node.lon())"
   ]
  }
 ],
 "metadata": {
  "kernelspec": {
   "display_name": "base",
   "language": "python",
   "name": "python3"
  },
  "language_info": {
   "codemirror_mode": {
    "name": "ipython",
    "version": 3
   },
   "file_extension": ".py",
   "mimetype": "text/x-python",
   "name": "python",
   "nbconvert_exporter": "python",
   "pygments_lexer": "ipython3",
   "version": "3.10.9"
  },
  "orig_nbformat": 4
 },
 "nbformat": 4,
 "nbformat_minor": 2
}
